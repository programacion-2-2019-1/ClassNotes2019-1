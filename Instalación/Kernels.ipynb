{
 "cells": [
  {
   "cell_type": "markdown",
   "metadata": {},
   "source": [
    "# Añadiendo Kernels a Jupyter."
   ]
  },
  {
   "cell_type": "markdown",
   "metadata": {},
   "source": [
    "<div style=\"text-align: right\"> <sub>*Autor*: **Marlon Algarra**</sub> </div>"
   ]
  },
  {
   "cell_type": "markdown",
   "metadata": {},
   "source": [
    "Como ya sabemos, Jupyter es un poderoso entorno de programación, que nos permite trabajar en Data Science de manera muy cómoda. Sin embargo, solo lo hemos utilizado con el lenguaje de programación Python; para aprovechar todo el potencial del entorno, será pertinente entonces tener los demás lenguajes de programación que soporta (al menos los principales). "
   ]
  },
  {
   "cell_type": "markdown",
   "metadata": {},
   "source": [
    "### The R Project for Statistical Computing"
   ]
  },
  {
   "cell_type": "markdown",
   "metadata": {},
   "source": [
    "El [lenguaje de programación (R](https://en.wikipedia.org/wiki/R_(programming_language)) es un dialecto del [lenguaje (S](https://en.wikipedia.org/wiki/S_(programming_language)). R es un lenguaje libre enfocado principalmente en la computación estadística y sus derivados. Es muy popular, pues hoy en día es una herramienta muy poderosa para el análisis estadístico de datos, minería de datos y machine learning. Cuenta con un amplia gama de paqueterías desarrolladas por la comunidad."
   ]
  },
  {
   "cell_type": "markdown",
   "metadata": {},
   "source": [
    "Para instalar el Kernel de R en Jupyter como primer paso será necesario tener la base de R instalada en el computador. El link de descarga estará [aquí](https://www.icesi.edu.co/CRAN/).\n",
    "\n",
    "Cuando ya esté instalado, abriremos Anaconda Prompt y digitaremos los siguientes códigos:\n",
    "\n",
    "`>cd C:\\Program Files\\R\\R-3.5.0\\bin`   (O la dirección donde esté R.exe)\n",
    "\n",
    "`>R.exe`\n",
    "\n",
    "`>install.packages(“devtools”)`\n",
    "\n",
    "`> devtools::install_github(“IRkernel/IRkernel”)`\n",
    "\n",
    "`> IRkernel::installspec()`\n",
    "\n",
    "Y, por último:\n",
    "\n",
    "`>q()`\n",
    "\n",
    "Al haber realizado estos pasos, al iniciar nuevamente jupyter notebook, encontraremos la opción de crear un notebook con R."
   ]
  },
  {
   "cell_type": "markdown",
   "metadata": {},
   "source": [
    "### The Julia Programming Language"
   ]
  },
  {
   "cell_type": "markdown",
   "metadata": {},
   "source": [
    "El [lenguaje de programación (Julia](https://en.wikipedia.org/wiki/Julia_(programming_language)) es de código libre, diseñado para tener un alto rendimiento (comparado con C), pues es un lenguaje compilador, pero tiene la particularidad de ser un lenguaje de alto nivel, comparado con Python o MATLAB. Al ser este un lenguaje de programación nuevo, ha generado un impacto grande en la comunidad, pues ya cuenta con muchas librerías hechas por la comunidad y los desarrolladores. Los científicos de datos tienen los ojos puestos en este lenguaje, que tiene un potencial increíble. "
   ]
  },
  {
   "cell_type": "markdown",
   "metadata": {},
   "source": [
    "Es necesario primero tener instalado Julia. El link lo encontrarás [aquí.](https://julialang.org)\n",
    "\n",
    "Cuando esté instalado, basta con ejecutar Julia, y escribir los siguientes códigos:\n",
    "\n",
    "`>using Pkg`\n",
    "\n",
    "`>Pkg.add(\"IJulia\")`\n",
    "\n",
    "Cuando el proceso termine, la siguiente vez que abramos Jupyter notebook nos aparecerá la opción de crear un notebook de Julia."
   ]
  }
 ],
 "metadata": {
  "kernelspec": {
   "display_name": "Python 3",
   "language": "python",
   "name": "python3"
  },
  "language_info": {
   "codemirror_mode": {
    "name": "ipython",
    "version": 3
   },
   "file_extension": ".py",
   "mimetype": "text/x-python",
   "name": "python",
   "nbconvert_exporter": "python",
   "pygments_lexer": "ipython3",
   "version": "3.6.4"
  }
 },
 "nbformat": 4,
 "nbformat_minor": 2
}
